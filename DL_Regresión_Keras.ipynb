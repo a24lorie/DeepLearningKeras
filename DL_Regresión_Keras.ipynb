{
  "nbformat": 4,
  "nbformat_minor": 0,
  "metadata": {
    "colab": {
      "name": "DL Regresión Keras",
      "provenance": [],
      "collapsed_sections": [],
      "toc_visible": true,
      "include_colab_link": true
    },
    "kernelspec": {
      "name": "python3",
      "display_name": "Python 3"
    }
  },
  "cells": [
    {
      "cell_type": "markdown",
      "metadata": {
        "id": "view-in-github",
        "colab_type": "text"
      },
      "source": [
        "<a href=\"https://colab.research.google.com/github/a24lorie/DeepLearningKeras/blob/UIMP/DL_Regresi%C3%B3n_Keras.ipynb\" target=\"_parent\"><img src=\"https://colab.research.google.com/assets/colab-badge.svg\" alt=\"Open In Colab\"/></a>"
      ]
    },
    {
      "cell_type": "markdown",
      "metadata": {
        "id": "dr6MvAdKZGRo",
        "colab_type": "text"
      },
      "source": [
        "#Ejemplo de regresión con Keras + TensorFlow"
      ]
    },
    {
      "cell_type": "markdown",
      "metadata": {
        "id": "rDSz5ZZEGK-m",
        "colab_type": "text"
      },
      "source": [
        "##NOTA IMPORTANTE\n",
        "Estos notebook están compartidos únicamente con **permisos de lectura**, por tanto no podrás ni ejecutarlos ni modificarlos.\n",
        "\n",
        "Para poder interactuar con el notebook **debes hacer una copia del mismo en tu Drive**. Esto puedes hacerlo desde el menú \"Archivo\" de Colaboratory.\n",
        "\n",
        "Si durante la realización de la práctica tienes la sensación de que **el notebook no está funcionando bien**, puedes ir al menú \"Entorno de ejecución\" de Colaboratoty y \"Reiniciar el entorno de ejecución\".\n",
        "\n",
        "Recuerda que para ejecutar un trozo de código debes situar el cursor en el mismo y presionar **MAYS+ENTER**."
      ]
    },
    {
      "cell_type": "markdown",
      "metadata": {
        "id": "I8gmpfvKZmQM",
        "colab_type": "text"
      },
      "source": [
        "## 1. Importar librerías necesarias\n",
        "Lo primero que vamos a hacer es instalar librerías necesarias para dibujar la red gráficamente. Estas librerías no son imprescindibles, pero vamos a incorporarlas para utilizar una función de keras que nos permitirá ver de manera gráfica la red creada.\n",
        "\n",
        "Después cargaremos las librerías que sí son imprescindibles, entre las que se encuentran: keras, tensorflow, numpy,...\n",
        "\n"
      ]
    },
    {
      "cell_type": "code",
      "metadata": {
        "id": "3GpBKxJhZqP4",
        "colab_type": "code",
        "outputId": "0f0d83af-0d2f-478b-dc7c-92f6b79c42ef",
        "colab": {
          "base_uri": "https://localhost:8080/",
          "height": 153
        }
      },
      "source": [
        "#Instalar librerias para dibujar la red gráficamente\n",
        "!pip install pydot\n",
        "!apt-get install graphviz\n",
        "\n",
        "#Cargar librerias necesarias\n",
        "import math\n",
        "import keras\n",
        "import tensorflow as tf\n",
        "import numpy as np\n",
        "import matplotlib.pyplot as plt\n",
        "\n",
        "from keras.models import Sequential\n",
        "from keras.layers import Dense\n",
        "from keras.utils import plot_model"
      ],
      "execution_count": 0,
      "outputs": [
        {
          "output_type": "stream",
          "text": [
            "Requirement already satisfied: pydot in /usr/local/lib/python3.6/dist-packages (1.3.0)\n",
            "Requirement already satisfied: pyparsing>=2.1.4 in /usr/local/lib/python3.6/dist-packages (from pydot) (2.4.2)\n",
            "Reading package lists... Done\n",
            "Building dependency tree       \n",
            "Reading state information... Done\n",
            "graphviz is already the newest version (2.40.1-2).\n",
            "0 upgraded, 0 newly installed, 0 to remove and 28 not upgraded.\n"
          ],
          "name": "stdout"
        },
        {
          "output_type": "stream",
          "text": [
            "Using TensorFlow backend.\n"
          ],
          "name": "stderr"
        }
      ]
    },
    {
      "cell_type": "markdown",
      "metadata": {
        "id": "FNp7SsgaY3UV",
        "colab_type": "text"
      },
      "source": [
        "## 2. Generar los datos de entrenamiento\n",
        "\n",
        "Ahora vamos a generar un conjunto de ejemplos para un problema de regresión. En concreto, nuestro problema tendrá ejemplos representados en $\\mathbb{R}^2$. El valor real de estos ejemplos vendrá dado por la función $y=cos(x_0)+sin(x_1)$.\n",
        "\n",
        "Esta función es claramente **no lineal**\n",
        "\n",
        " "
      ]
    },
    {
      "cell_type": "code",
      "metadata": {
        "id": "eqtgKKrQYx49",
        "colab_type": "code",
        "outputId": "b59bf529-7acc-4e5b-c159-91b03c547247",
        "colab": {
          "base_uri": "https://localhost:8080/",
          "height": 255
        }
      },
      "source": [
        "seed = 2032  # semilla de números aleatorios \n",
        "NE = 5000  # se van a generar NE ejemplos\n",
        "\n",
        "np.random.seed(seed)  # se inicializalizan los números aleatorios\n",
        "\n",
        "# Generar una matriz de NE filas y 2 columnas con datos uniformes entre -5 y 5\n",
        "laX = np.random.uniform(-5, 5, size=[NE, 2]) \n",
        "\n",
        "laY = np.zeros((NE, 1)) # Reservar espacio para la Y\n",
        "\n",
        "# Rellenar el vector de la Y\n",
        "for i in range(NE):\n",
        "    laY[i] = math.cos(laX[i, 0])+math.sin(laX[i, 1]) # ruido = np.random.normal(0,sigma)\n",
        "\n",
        "print(laX)\n",
        "print(laY)"
      ],
      "execution_count": 0,
      "outputs": [
        {
          "output_type": "stream",
          "text": [
            "[[ 4.5557887   3.84923263]\n",
            " [-2.22296771  2.30424712]\n",
            " [ 0.9677073  -2.77795226]\n",
            " ...\n",
            " [ 3.52344383 -2.2835793 ]\n",
            " [-2.81862311  4.66132362]\n",
            " [ 4.81409483  1.67149958]]\n",
            "[[-0.8060032 ]\n",
            " [ 0.13595516]\n",
            " [ 0.21151034]\n",
            " ...\n",
            " [-1.68452131]\n",
            " [-1.94699356]\n",
            " [ 1.09646431]]\n"
          ],
          "name": "stdout"
        }
      ]
    },
    {
      "cell_type": "markdown",
      "metadata": {
        "id": "DNJsP89caKmY",
        "colab_type": "text"
      },
      "source": [
        "## 3. Crear el modelo (modelo lineal)\n",
        "Lo primero que vamos a hacer es crear una red sin capas ocultas. Esta red se conoce como perceptrón lineal y solo es capaz de resolver problemas lineales.\n",
        "\n",
        "**Lee los comentarios del código detenidamente para entender lo que se está haciendo.**\n",
        "\n",
        "*En la web de tensorflow puedes encontar tutoriales detallados*\n",
        "\n",
        "Fíjate que la línea **print(model.summary())** imprime una representación en modo texto de la red y además indica el número de parámetros que se deben aprender en cada capa. En este caso hay una sola capa y los parámetros que hay que aprender son 3: los dos coeficientes que se multiplicarán por las entradas y el término independiente.\n"
      ]
    },
    {
      "cell_type": "code",
      "metadata": {
        "id": "R9tXs9SBfnr_",
        "colab_type": "code",
        "outputId": "62556af2-8118-4504-f488-347798237229",
        "colab": {
          "base_uri": "https://localhost:8080/",
          "height": 517
        }
      },
      "source": [
        "\"\"\" SE DEFINE LA RED \"\"\"\n",
        "tf.set_random_seed(seed)# Fijar semilla del keras/tensorflow\n",
        "\n",
        "n_input = 2      # Celdas en la capa de entrada (variables de entrada)\n",
        "n_output = 1     # Celdas en la capa de salida (un valor numérico)\n",
        "\n",
        "# Definir las capas del modelo\n",
        "model = Sequential()\n",
        "model.add(Dense(n_output, input_dim=n_input, name=\"output_layer\"))\n",
        "\n",
        "# Como se puede ver, se crea un modelo secuencial donde cada capa añadida recibe\n",
        "# como entrada la salida de la anterior.\n",
        "# La dimensión de la entrada siempre se define en la primera capa del modelo \n",
        "# (parámetro input_dim) => model.add(Dense(n_output, input_dim=n_input, name=\"output_layer\")) \n",
        "\n",
        "#Existe también una forma \"funcional\" de crear modelos. En este caso sería:\n",
        "# in_layer = Input(shape =(n_input,))\n",
        "# out_layer = Dense(n_output, name=\"out_layer\")(in_layer)\n",
        "# \n",
        "# model = Model(inputs = [in_layer], outputs = [out_layer])\n",
        "\n",
        "\"\"\" SELECCIONAR OPTIMIZADOR E INICIALIZAR PARÁMETROS \"\"\"\n",
        "# Learning rate del modelo. Es el alpha que multiplicará a la derivada cuando\n",
        "# se va a hacer la modificación de los parámetros que se aprenden. En el vídeo\n",
        "# del \"Descenso del gradiente\" se explica su función\n",
        "learning_rate = 0.001 \n",
        "\n",
        "# Definir el optimizador a utilizar (SGD, descenso del gradiente estocástico)\n",
        "# Consulta la ayuda para ver qué otros optimizadores hay\n",
        "sgd = keras.optimizers.SGD(lr=learning_rate)\n",
        "\n",
        "# Compilar el modelo indicando la función de pérdida (loss) y el optimizador\n",
        "model.compile(loss='mean_squared_error', optimizer=sgd )\n",
        "\n",
        "\"\"\" SE VISUALIZA EL MODELO \"\"\"\n",
        "# Imprimir en modo texto finalmente el resumen/arquitectura de nuestro modelo\n",
        "# Esta información permite conocer el número de parámetros que se han de aprender\n",
        "print(model.summary())\n",
        "\n",
        "# Obtener un fichero con la representación gráfica del modelo\n",
        "plot_model(model, to_file='model.png')\n",
        "# Después de ejecutar esta línea se genera el fichero 'model.png'. Para poder \n",
        "# verlo, tienes que ir a la parte izquierda, acceder a la pestaña 'Archivos' y\n",
        "# 'actualizar', aparecerá entonces el archivo y podrás verlo (doble click sobre\n",
        "# el fichero 'model.png' o click con el botón derecho para descargarlo)\n"
      ],
      "execution_count": 0,
      "outputs": [
        {
          "output_type": "stream",
          "text": [
            "WARNING:tensorflow:From /usr/local/lib/python3.6/dist-packages/keras/backend/tensorflow_backend.py:66: The name tf.get_default_graph is deprecated. Please use tf.compat.v1.get_default_graph instead.\n",
            "\n",
            "WARNING:tensorflow:From /usr/local/lib/python3.6/dist-packages/keras/backend/tensorflow_backend.py:541: The name tf.placeholder is deprecated. Please use tf.compat.v1.placeholder instead.\n",
            "\n",
            "WARNING:tensorflow:From /usr/local/lib/python3.6/dist-packages/keras/backend/tensorflow_backend.py:4432: The name tf.random_uniform is deprecated. Please use tf.random.uniform instead.\n",
            "\n",
            "WARNING:tensorflow:From /usr/local/lib/python3.6/dist-packages/keras/optimizers.py:793: The name tf.train.Optimizer is deprecated. Please use tf.compat.v1.train.Optimizer instead.\n",
            "\n",
            "Model: \"sequential_1\"\n",
            "_________________________________________________________________\n",
            "Layer (type)                 Output Shape              Param #   \n",
            "=================================================================\n",
            "output_layer (Dense)         (None, 1)                 3         \n",
            "=================================================================\n",
            "Total params: 3\n",
            "Trainable params: 3\n",
            "Non-trainable params: 0\n",
            "_________________________________________________________________\n",
            "None\n"
          ],
          "name": "stdout"
        },
        {
          "output_type": "execute_result",
          "data": {
            "image/png": "[encoded data removed]",
            "text/plain": [
              "<IPython.core.display.Image object>"
            ]
          },
          "metadata": {
            "tags": []
          },
          "execution_count": 3
        }
      ]
    },
    {
      "cell_type": "markdown",
      "metadata": {
        "id": "DdF03maw6_rE",
        "colab_type": "text"
      },
      "source": [
        "## 4. Entrenar el modelo\n",
        "Una vez que ya hemos definido cómo va a ser nuestro modelo, vamos a entrenarlo para buscar los parámetros que hagan mínima la función de pérdida.\n",
        "\n",
        "Para ello utilizaremos el método **fit**. Necesita que le suministremos los ejemplos (laX, laY), el tamaño del *batch* y el número de *epochs*. \n",
        "\n",
        "El número de epochs es el número de veces que el algoritmo va a ver los ejemplos durante el entrenamiento.\n",
        "\n",
        "El tamaño del batch es el número de ejemplos que se van a utilizar en cada actualización de los parámetros.\n",
        "\n",
        "En el código vemos que elegimos como tamaño de batch 128. Como tenemos 5000 ejemplos y 5000/128=39, esto quiere decir que en 39 actualizaciones de los parámetros llegamos a los 5000 ejemplos, lo que completaría una epoch. Como le indicamos en el código que queremos 200 epochs, estaremos permitiendo que el algoritmo haga en total 39x200=7800 actualizaciones.\n",
        "\n",
        "Con **verbose=2** le pedimos que nos muestre el error al finalizar cada epoch.\n",
        "\n",
        "Fíjate que lo que retorna fit lo almacenamos en una variable que llamamos history. Más adelante la utilizaremos."
      ]
    },
    {
      "cell_type": "code",
      "metadata": {
        "id": "pVC1XJBg7Q1H",
        "colab_type": "code",
        "outputId": "de16766e-adc1-45fd-c01b-49b437bf331f",
        "colab": {
          "base_uri": "https://localhost:8080/",
          "height": 1000
        }
      },
      "source": [
        "batch = 128    # Tamaño del batch\n",
        "n_epochs = 200 # Número de epochs\n",
        "\n",
        "#Entrenar el modelo a partir de los ejemplos de TRAIN creados en el punto 2\n",
        "history = model.fit(laX, laY, batch_size=batch, epochs=n_epochs, verbose=2)"
      ],
      "execution_count": 0,
      "outputs": [
        {
          "output_type": "stream",
          "text": [
            "WARNING:tensorflow:From /usr/local/lib/python3.6/dist-packages/keras/backend/tensorflow_backend.py:1033: The name tf.assign_add is deprecated. Please use tf.compat.v1.assign_add instead.\n",
            "\n",
            "WARNING:tensorflow:From /usr/local/lib/python3.6/dist-packages/keras/backend/tensorflow_backend.py:1020: The name tf.assign is deprecated. Please use tf.compat.v1.assign instead.\n",
            "\n",
            "WARNING:tensorflow:From /usr/local/lib/python3.6/dist-packages/keras/backend/tensorflow_backend.py:3005: The name tf.Session is deprecated. Please use tf.compat.v1.Session instead.\n",
            "\n",
            "Epoch 1/200\n",
            "WARNING:tensorflow:From /usr/local/lib/python3.6/dist-packages/keras/backend/tensorflow_backend.py:190: The name tf.get_default_session is deprecated. Please use tf.compat.v1.get_default_session instead.\n",
            "\n",
            "WARNING:tensorflow:From /usr/local/lib/python3.6/dist-packages/keras/backend/tensorflow_backend.py:197: The name tf.ConfigProto is deprecated. Please use tf.compat.v1.ConfigProto instead.\n",
            "\n",
            "WARNING:tensorflow:From /usr/local/lib/python3.6/dist-packages/keras/backend/tensorflow_backend.py:207: The name tf.global_variables is deprecated. Please use tf.compat.v1.global_variables instead.\n",
            "\n",
            "WARNING:tensorflow:From /usr/local/lib/python3.6/dist-packages/keras/backend/tensorflow_backend.py:216: The name tf.is_variable_initialized is deprecated. Please use tf.compat.v1.is_variable_initialized instead.\n",
            "\n",
            "WARNING:tensorflow:From /usr/local/lib/python3.6/dist-packages/keras/backend/tensorflow_backend.py:223: The name tf.variables_initializer is deprecated. Please use tf.compat.v1.variables_initializer instead.\n",
            "\n",
            " - 1s - loss: 8.5920\n",
            "Epoch 2/200\n",
            " - 0s - loss: 2.9700\n",
            "Epoch 3/200\n",
            " - 0s - loss: 1.4910\n",
            "Epoch 4/200\n",
            " - 0s - loss: 1.0905\n",
            "Epoch 5/200\n",
            " - 0s - loss: 0.9836\n",
            "Epoch 6/200\n",
            " - 0s - loss: 0.9545\n",
            "Epoch 7/200\n",
            " - 0s - loss: 0.9442\n",
            "Epoch 8/200\n",
            " - 0s - loss: 0.9403\n",
            "Epoch 9/200\n",
            " - 0s - loss: 0.9375\n",
            "Epoch 10/200\n",
            " - 0s - loss: 0.9360\n",
            "Epoch 11/200\n",
            " - 0s - loss: 0.9345\n",
            "Epoch 12/200\n",
            " - 0s - loss: 0.9334\n",
            "Epoch 13/200\n",
            " - 0s - loss: 0.9325\n",
            "Epoch 14/200\n",
            " - 0s - loss: 0.9315\n",
            "Epoch 15/200\n",
            " - 0s - loss: 0.9306\n",
            "Epoch 16/200\n",
            " - 0s - loss: 0.9300\n",
            "Epoch 17/200\n",
            " - 0s - loss: 0.9296\n",
            "Epoch 18/200\n",
            " - 0s - loss: 0.9290\n",
            "Epoch 19/200\n",
            " - 0s - loss: 0.9288\n",
            "Epoch 20/200\n",
            " - 0s - loss: 0.9285\n",
            "Epoch 21/200\n",
            " - 0s - loss: 0.9282\n",
            "Epoch 22/200\n",
            " - 0s - loss: 0.9280\n",
            "Epoch 23/200\n",
            " - 0s - loss: 0.9277\n",
            "Epoch 24/200\n",
            " - 0s - loss: 0.9275\n",
            "Epoch 25/200\n",
            " - 0s - loss: 0.9274\n",
            "Epoch 26/200\n",
            " - 0s - loss: 0.9273\n",
            "Epoch 27/200\n",
            " - 0s - loss: 0.9272\n",
            "Epoch 28/200\n",
            " - 0s - loss: 0.9271\n",
            "Epoch 29/200\n",
            " - 0s - loss: 0.9270\n",
            "Epoch 30/200\n",
            " - 0s - loss: 0.9270\n",
            "Epoch 31/200\n",
            " - 0s - loss: 0.9268\n",
            "Epoch 32/200\n",
            " - 0s - loss: 0.9268\n",
            "Epoch 33/200\n",
            " - 0s - loss: 0.9268\n",
            "Epoch 34/200\n",
            " - 0s - loss: 0.9268\n",
            "Epoch 35/200\n",
            " - 0s - loss: 0.9267\n",
            "Epoch 36/200\n",
            " - 0s - loss: 0.9267\n",
            "Epoch 37/200\n",
            " - 0s - loss: 0.9266\n",
            "Epoch 38/200\n",
            " - 0s - loss: 0.9266\n",
            "Epoch 39/200\n",
            " - 0s - loss: 0.9266\n",
            "Epoch 40/200\n",
            " - 0s - loss: 0.9266\n",
            "Epoch 41/200\n",
            " - 0s - loss: 0.9267\n",
            "Epoch 42/200\n",
            " - 0s - loss: 0.9266\n",
            "Epoch 43/200\n",
            " - 0s - loss: 0.9266\n",
            "Epoch 44/200\n",
            " - 0s - loss: 0.9266\n",
            "Epoch 45/200\n",
            " - 0s - loss: 0.9266\n",
            "Epoch 46/200\n",
            " - 0s - loss: 0.9265\n",
            "Epoch 47/200\n",
            " - 0s - loss: 0.9265\n",
            "Epoch 48/200\n",
            " - 0s - loss: 0.9266\n",
            "Epoch 49/200\n",
            " - 0s - loss: 0.9267\n",
            "Epoch 50/200\n",
            " - 0s - loss: 0.9265\n",
            "Epoch 51/200\n",
            " - 0s - loss: 0.9267\n",
            "Epoch 52/200\n",
            " - 0s - loss: 0.9266\n",
            "Epoch 53/200\n",
            " - 0s - loss: 0.9266\n",
            "Epoch 54/200\n",
            " - 0s - loss: 0.9266\n",
            "Epoch 55/200\n",
            " - 0s - loss: 0.9266\n",
            "Epoch 56/200\n",
            " - 0s - loss: 0.9265\n",
            "Epoch 57/200\n",
            " - 0s - loss: 0.9265\n",
            "Epoch 58/200\n",
            " - 0s - loss: 0.9265\n",
            "Epoch 59/200\n",
            " - 0s - loss: 0.9265\n",
            "Epoch 60/200\n",
            " - 0s - loss: 0.9266\n",
            "Epoch 61/200\n",
            " - 0s - loss: 0.9265\n",
            "Epoch 62/200\n",
            " - 0s - loss: 0.9265\n",
            "Epoch 63/200\n",
            " - 0s - loss: 0.9265\n",
            "Epoch 64/200\n",
            " - 0s - loss: 0.9265\n",
            "Epoch 65/200\n",
            " - 0s - loss: 0.9265\n",
            "Epoch 66/200\n",
            " - 0s - loss: 0.9265\n",
            "Epoch 67/200\n",
            " - 0s - loss: 0.9265\n",
            "Epoch 68/200\n",
            " - 0s - loss: 0.9265\n",
            "Epoch 69/200\n",
            " - 0s - loss: 0.9264\n",
            "Epoch 70/200\n",
            " - 0s - loss: 0.9265\n",
            "Epoch 71/200\n",
            " - 0s - loss: 0.9265\n",
            "Epoch 72/200\n",
            " - 0s - loss: 0.9265\n",
            "Epoch 73/200\n",
            " - 0s - loss: 0.9265\n",
            "Epoch 74/200\n",
            " - 0s - loss: 0.9265\n",
            "Epoch 75/200\n",
            " - 0s - loss: 0.9265\n",
            "Epoch 76/200\n",
            " - 0s - loss: 0.9265\n",
            "Epoch 77/200\n",
            " - 0s - loss: 0.9265\n",
            "Epoch 78/200\n",
            " - 0s - loss: 0.9265\n",
            "Epoch 79/200\n",
            " - 0s - loss: 0.9265\n",
            "Epoch 80/200\n",
            " - 0s - loss: 0.9265\n",
            "Epoch 81/200\n",
            " - 0s - loss: 0.9266\n",
            "Epoch 82/200\n",
            " - 0s - loss: 0.9265\n",
            "Epoch 83/200\n",
            " - 0s - loss: 0.9265\n",
            "Epoch 84/200\n",
            " - 0s - loss: 0.9265\n",
            "Epoch 85/200\n",
            " - 0s - loss: 0.9266\n",
            "Epoch 86/200\n",
            " - 0s - loss: 0.9265\n",
            "Epoch 87/200\n",
            " - 0s - loss: 0.9266\n",
            "Epoch 88/200\n",
            " - 0s - loss: 0.9265\n",
            "Epoch 89/200\n",
            " - 0s - loss: 0.9264\n",
            "Epoch 90/200\n",
            " - 0s - loss: 0.9265\n",
            "Epoch 91/200\n",
            " - 0s - loss: 0.9265\n",
            "Epoch 92/200\n",
            " - 0s - loss: 0.9265\n",
            "Epoch 93/200\n",
            " - 0s - loss: 0.9266\n",
            "Epoch 94/200\n",
            " - 0s - loss: 0.9266\n",
            "Epoch 95/200\n",
            " - 0s - loss: 0.9265\n",
            "Epoch 96/200\n",
            " - 0s - loss: 0.9265\n",
            "Epoch 97/200\n",
            " - 0s - loss: 0.9265\n",
            "Epoch 98/200\n",
            " - 0s - loss: 0.9265\n",
            "Epoch 99/200\n",
            " - 0s - loss: 0.9265\n",
            "Epoch 100/200\n",
            " - 0s - loss: 0.9264\n",
            "Epoch 101/200\n",
            " - 0s - loss: 0.9265\n",
            "Epoch 102/200\n",
            " - 0s - loss: 0.9265\n",
            "Epoch 103/200\n",
            " - 0s - loss: 0.9265\n",
            "Epoch 104/200\n",
            " - 0s - loss: 0.9265\n",
            "Epoch 105/200\n",
            " - 0s - loss: 0.9265\n",
            "Epoch 106/200\n",
            " - 0s - loss: 0.9266\n",
            "Epoch 107/200\n",
            " - 0s - loss: 0.9265\n",
            "Epoch 108/200\n",
            " - 0s - loss: 0.9265\n",
            "Epoch 109/200\n",
            " - 0s - loss: 0.9265\n",
            "Epoch 110/200\n",
            " - 0s - loss: 0.9265\n",
            "Epoch 111/200\n",
            " - 0s - loss: 0.9264\n",
            "Epoch 112/200\n",
            " - 0s - loss: 0.9265\n",
            "Epoch 113/200\n",
            " - 0s - loss: 0.9265\n",
            "Epoch 114/200\n",
            " - 0s - loss: 0.9265\n",
            "Epoch 115/200\n",
            " - 0s - loss: 0.9265\n",
            "Epoch 116/200\n",
            " - 0s - loss: 0.9265\n",
            "Epoch 117/200\n",
            " - 0s - loss: 0.9265\n",
            "Epoch 118/200\n",
            " - 0s - loss: 0.9265\n",
            "Epoch 119/200\n",
            " - 0s - loss: 0.9265\n",
            "Epoch 120/200\n",
            " - 0s - loss: 0.9265\n",
            "Epoch 121/200\n",
            " - 0s - loss: 0.9265\n",
            "Epoch 122/200\n",
            " - 0s - loss: 0.9265\n",
            "Epoch 123/200\n",
            " - 0s - loss: 0.9266\n",
            "Epoch 124/200\n",
            " - 0s - loss: 0.9265\n",
            "Epoch 125/200\n",
            " - 0s - loss: 0.9265\n",
            "Epoch 126/200\n",
            " - 0s - loss: 0.9266\n",
            "Epoch 127/200\n",
            " - 0s - loss: 0.9265\n",
            "Epoch 128/200\n",
            " - 0s - loss: 0.9266\n",
            "Epoch 129/200\n",
            " - 0s - loss: 0.9266\n",
            "Epoch 130/200\n",
            " - 0s - loss: 0.9265\n",
            "Epoch 131/200\n",
            " - 0s - loss: 0.9265\n",
            "Epoch 132/200\n",
            " - 0s - loss: 0.9265\n",
            "Epoch 133/200\n",
            " - 0s - loss: 0.9265\n",
            "Epoch 134/200\n",
            " - 0s - loss: 0.9264\n",
            "Epoch 135/200\n",
            " - 0s - loss: 0.9265\n",
            "Epoch 136/200\n",
            " - 0s - loss: 0.9266\n",
            "Epoch 137/200\n",
            " - 0s - loss: 0.9265\n",
            "Epoch 138/200\n",
            " - 0s - loss: 0.9266\n",
            "Epoch 139/200\n",
            " - 0s - loss: 0.9265\n",
            "Epoch 140/200\n",
            " - 0s - loss: 0.9265\n",
            "Epoch 141/200\n",
            " - 0s - loss: 0.9264\n",
            "Epoch 142/200\n",
            " - 0s - loss: 0.9266\n",
            "Epoch 143/200\n",
            " - 0s - loss: 0.9265\n",
            "Epoch 144/200\n",
            " - 0s - loss: 0.9264\n",
            "Epoch 145/200\n",
            " - 0s - loss: 0.9265\n",
            "Epoch 146/200\n",
            " - 0s - loss: 0.9265\n",
            "Epoch 147/200\n",
            " - 0s - loss: 0.9266\n",
            "Epoch 148/200\n",
            " - 0s - loss: 0.9265\n",
            "Epoch 149/200\n",
            " - 0s - loss: 0.9265\n",
            "Epoch 150/200\n",
            " - 0s - loss: 0.9266\n",
            "Epoch 151/200\n",
            " - 0s - loss: 0.9265\n",
            "Epoch 152/200\n",
            " - 0s - loss: 0.9265\n",
            "Epoch 153/200\n",
            " - 0s - loss: 0.9265\n",
            "Epoch 154/200\n",
            " - 0s - loss: 0.9266\n",
            "Epoch 155/200\n",
            " - 0s - loss: 0.9266\n",
            "Epoch 156/200\n",
            " - 0s - loss: 0.9266\n",
            "Epoch 157/200\n",
            " - 0s - loss: 0.9265\n",
            "Epoch 158/200\n",
            " - 0s - loss: 0.9265\n",
            "Epoch 159/200\n",
            " - 0s - loss: 0.9265\n",
            "Epoch 160/200\n",
            " - 0s - loss: 0.9265\n",
            "Epoch 161/200\n",
            " - 0s - loss: 0.9266\n",
            "Epoch 162/200\n",
            " - 0s - loss: 0.9265\n",
            "Epoch 163/200\n",
            " - 0s - loss: 0.9265\n",
            "Epoch 164/200\n",
            " - 0s - loss: 0.9265\n",
            "Epoch 165/200\n",
            " - 0s - loss: 0.9265\n",
            "Epoch 166/200\n",
            " - 0s - loss: 0.9266\n",
            "Epoch 167/200\n",
            " - 0s - loss: 0.9265\n",
            "Epoch 168/200\n",
            " - 0s - loss: 0.9265\n",
            "Epoch 169/200\n",
            " - 0s - loss: 0.9265\n",
            "Epoch 170/200\n",
            " - 0s - loss: 0.9265\n",
            "Epoch 171/200\n",
            " - 0s - loss: 0.9267\n",
            "Epoch 172/200\n",
            " - 0s - loss: 0.9266\n",
            "Epoch 173/200\n",
            " - 0s - loss: 0.9265\n",
            "Epoch 174/200\n",
            " - 0s - loss: 0.9265\n",
            "Epoch 175/200\n",
            " - 0s - loss: 0.9265\n",
            "Epoch 176/200\n",
            " - 0s - loss: 0.9265\n",
            "Epoch 177/200\n",
            " - 0s - loss: 0.9265\n",
            "Epoch 178/200\n",
            " - 0s - loss: 0.9264\n",
            "Epoch 179/200\n",
            " - 0s - loss: 0.9266\n",
            "Epoch 180/200\n",
            " - 0s - loss: 0.9266\n",
            "Epoch 181/200\n",
            " - 0s - loss: 0.9265\n",
            "Epoch 182/200\n",
            " - 0s - loss: 0.9265\n",
            "Epoch 183/200\n",
            " - 0s - loss: 0.9266\n",
            "Epoch 184/200\n",
            " - 0s - loss: 0.9266\n",
            "Epoch 185/200\n",
            " - 0s - loss: 0.9264\n",
            "Epoch 186/200\n",
            " - 0s - loss: 0.9265\n",
            "Epoch 187/200\n",
            " - 0s - loss: 0.9266\n",
            "Epoch 188/200\n",
            " - 0s - loss: 0.9264\n",
            "Epoch 189/200\n",
            " - 0s - loss: 0.9265\n",
            "Epoch 190/200\n",
            " - 0s - loss: 0.9265\n",
            "Epoch 191/200\n",
            " - 0s - loss: 0.9265\n",
            "Epoch 192/200\n",
            " - 0s - loss: 0.9265\n",
            "Epoch 193/200\n",
            " - 0s - loss: 0.9265\n",
            "Epoch 194/200\n",
            " - 0s - loss: 0.9265\n",
            "Epoch 195/200\n",
            " - 0s - loss: 0.9265\n",
            "Epoch 196/200\n",
            " - 0s - loss: 0.9266\n",
            "Epoch 197/200\n",
            " - 0s - loss: 0.9266\n",
            "Epoch 198/200\n",
            " - 0s - loss: 0.9265\n",
            "Epoch 199/200\n",
            " - 0s - loss: 0.9265\n",
            "Epoch 200/200\n",
            " - 0s - loss: 0.9265\n"
          ],
          "name": "stdout"
        }
      ]
    },
    {
      "cell_type": "markdown",
      "metadata": {
        "id": "DnpN3xbGe3m8",
        "colab_type": "text"
      },
      "source": [
        "##5. Función para dibujar la gráfica del error\n",
        "Tras realizar el entrenamiento con fit, almacenamos lo que retorna ese método en una variable que llamamos history.\n",
        "\n",
        "Definimos ahora la función **plot_history** que recibiendo lo retornado por fit, crea un gráfico en el que se ve la evolución del error que se está minimizando en función de la epoch en la que se está."
      ]
    },
    {
      "cell_type": "code",
      "metadata": {
        "id": "u5_zZP9Ne7DN",
        "colab_type": "code",
        "outputId": "9eac6111-33e3-409c-aa81-e68f2630b129",
        "colab": {
          "base_uri": "https://localhost:8080/",
          "height": 313
        }
      },
      "source": [
        "def plot_history(history):\n",
        "  plt.figure()\n",
        "  plt.xlabel('Epoch')\n",
        "  plt.ylabel('Error cuadrático medio')\n",
        "  plt.plot(history.epoch, np.array(history.history['loss']),\n",
        "           label='Error (loss) en entrenamiento')\n",
        "  plt.legend()\n",
        "  plt.ylim([0, max(1,max(np.array(history.history['loss'])))])\n",
        "\n",
        "plot_history(history)\n",
        "print(\"Máximo error:\",max(np.array(history.history['loss'])))\n",
        "print(\"Mínimo error:\",min(np.array(history.history['loss'])))\n"
      ],
      "execution_count": 0,
      "outputs": [
        {
          "output_type": "stream",
          "text": [
            "Máximo error: 8.591954951477051\n",
            "Mínimo error: 0.9264289896965027\n"
          ],
          "name": "stdout"
        },
        {
          "output_type": "display_data",
          "data": {
            "image/png": "[encoded data removed]",
            "text/plain": [
              "<Figure size 432x288 with 1 Axes>"
            ]
          },
          "metadata": {
            "tags": []
          }
        }
      ]
    },
    {
      "cell_type": "markdown",
      "metadata": {
        "id": "UJge2aCfldse",
        "colab_type": "text"
      },
      "source": [
        "##6. Crear un modelo no lineal\n",
        "El modelo anterior tiene una limitación muy grande: es un modelo lineal y eso le impide adaptarse de manera apropiada para resolver problemas no lineales.\n",
        "\n",
        "Aun así, logra bajar el error hasta 0.926. \n",
        "\n",
        "Vamos a ver ahora lo que sucede si creamos un modelo no lineal. Para ello vamos a incluir una capa oculta que tenga como función de activación la función **ReLU**.\n",
        "\n",
        "Observa con detenimiento cómo se añade la capa, ya que tendrás posteriormente que añadir más capas."
      ]
    },
    {
      "cell_type": "code",
      "metadata": {
        "id": "-kFn5Ripl3zW",
        "colab_type": "code",
        "outputId": "9531ca1d-8006-4b48-edaf-fdbb43da8d87",
        "colab": {
          "base_uri": "https://localhost:8080/",
          "height": 493
        }
      },
      "source": [
        "\"\"\" SE DEFINE LA RED \"\"\"\n",
        "tf.set_random_seed(seed)# Fijar semilla del keras/tensorflow\n",
        "\n",
        "n_input = 2      # Celdas en la capa de entrada (variables de entrada)\n",
        "n_hidden1 = 10   # Celdas en la capa oculta\n",
        "n_output = 1     # Celdas en la capa de salida (un valor numérico)\n",
        "\n",
        "# Definir las capas del modelo\n",
        "model = Sequential()\n",
        "model.add(Dense(n_hidden1, input_dim=n_input,activation='relu', name=\"hidden1_layer\"))\n",
        "model.add(Dense(n_output,name=\"output_layer\"))\n",
        "\n",
        "# Como se puede ver, se crea un modelo secuencial donde cada capa añadida recibe\n",
        "# como entrada la salida de la anterior.\n",
        "# La dimensión de la entrada siempre se define en la primera capa del modelo \n",
        "# (parámetro input_dim) => model.add(Dense(n_hidden1, input_dim=n_input, name=\"hidden1_layer\")) \n",
        "\n",
        "\n",
        "#Existe también una forma \"funcional\" de crear modelos. En este caso sería:\n",
        "# in_layer = Input(shape =(n_input,))\n",
        "# hidden_layer = Dense(n_hidden1, name=\"hidden1_layer\",activation='relu')(in_layer)\n",
        "# out_layer = Dense(n_output, name=\"out_layer\")(hidden_layer)\n",
        "# \n",
        "# model = Model(inputs = [in_layer], outputs = [out_layer])\n",
        "\n",
        "\"\"\" SE DEFINE EL MODELO \"\"\"\n",
        "\n",
        "# Learning rate del modelo. Es el alpha que multiplicará a la derivada cuando\n",
        "# se va a hacer la modificación de los parámetros que se aprenden. En el vídeo\n",
        "# del \"Descenso del gradiente\" se explica su función\n",
        "learning_rate = 0.001 \n",
        "\n",
        "# Definir el optimizador a utilizar (SGD, descenso del gradiente estocástico)\n",
        "sgd = keras.optimizers.SGD(lr=learning_rate)\n",
        "\n",
        "# Compilar el modelo indicando la función de pérdida (loss) y el optimizador\n",
        "model.compile(loss='mean_squared_error', optimizer=sgd )\n",
        "\n",
        "\"\"\" SE VISUALIZA EL MODELO \"\"\"\n",
        "\n",
        "# Imprimir en modo texto finalmente el resumen/arquitectura de nuestro modelo\n",
        "# Esta información permite conocer el número de parámetros que se han de aprender\n",
        "print(model.summary())\n",
        "\n",
        "# Obtener un fichero con la representación gráfica del modelo\n",
        "plot_model(model, to_file='model.png')\n",
        "# Después de ejecutar esta línea se genera el fichero 'model.png'. Para poder \n",
        "# verlo, tienes que ir a la parte izquierda, acceder a la pestaña 'Archivos' y\n",
        "# 'actualizar', aparecerá entonces el archivo y podrás verlo (doble click sobre\n",
        "# el fichero 'model.png' o click con el botón derecho para descargarlo)"
      ],
      "execution_count": 0,
      "outputs": [
        {
          "output_type": "stream",
          "text": [
            "Model: \"sequential_2\"\n",
            "_________________________________________________________________\n",
            "Layer (type)                 Output Shape              Param #   \n",
            "=================================================================\n",
            "hidden1_layer (Dense)        (None, 10)                30        \n",
            "_________________________________________________________________\n",
            "output_layer (Dense)         (None, 1)                 11        \n",
            "=================================================================\n",
            "Total params: 41\n",
            "Trainable params: 41\n",
            "Non-trainable params: 0\n",
            "_________________________________________________________________\n",
            "None\n"
          ],
          "name": "stdout"
        },
        {
          "output_type": "execute_result",
          "data": {
            "image/png": "[encoded data removed]",
            "text/plain": [
              "<IPython.core.display.Image object>"
            ]
          },
          "metadata": {
            "tags": []
          },
          "execution_count": 6
        }
      ]
    },
    {
      "cell_type": "markdown",
      "metadata": {
        "id": "zbzpqPVCGlmQ",
        "colab_type": "text"
      },
      "source": [
        "##7. Y lo ejecutamos\n",
        "Ponemos **verbose=0** y así no tendremos que hacer tanto scroll. Eso sí, el resultado final tardará en aparecer unos segundos."
      ]
    },
    {
      "cell_type": "code",
      "metadata": {
        "id": "OS9905yOm41B",
        "colab_type": "code",
        "outputId": "bd2758b3-8bed-41e8-cd85-6ee2c098ab97",
        "colab": {
          "base_uri": "https://localhost:8080/",
          "height": 313
        }
      },
      "source": [
        "#Entrenar el modelo a partir de los ejemplos de TRAIN creados en el punto 2\n",
        "history = model.fit(laX, laY, batch_size=batch, epochs=n_epochs, verbose=0 )\n",
        "\n",
        "plot_history(history)\n",
        "print(\"Máximo error:\",max(np.array(history.history['loss'])))\n",
        "print(\"Máximo error:\",min(np.array(history.history['loss'])))"
      ],
      "execution_count": 0,
      "outputs": [
        {
          "output_type": "stream",
          "text": [
            "Máximo error: 2.5549184434890746\n",
            "Máximo error: 0.4264668981552124\n"
          ],
          "name": "stdout"
        },
        {
          "output_type": "display_data",
          "data": {
            "image/png": "[encoded data removed]",
            "text/plain": [
              "<Figure size 432x288 with 1 Axes>"
            ]
          },
          "metadata": {
            "tags": []
          }
        }
      ]
    },
    {
      "cell_type": "markdown",
      "metadata": {
        "id": "bOLNK8ZrEQwb",
        "colab_type": "text"
      },
      "source": [
        "Como puedes ver, el error se ha hecho más pequeño. Esto es normal, ya que una red con una capa oculta ya es capaz de aprender funciones no lineales."
      ]
    },
    {
      "cell_type": "markdown",
      "metadata": {
        "id": "vuEkhEnREEn8",
        "colab_type": "text"
      },
      "source": [
        "##8. Crea tú ahora una red con 2 capas ocultas\n",
        "Debes crear una red con 2 capas ocultas. La primera con 6 celdas y la segunda con 4 celdas."
      ]
    },
    {
      "cell_type": "code",
      "metadata": {
        "id": "NIDOaK3qlvH8",
        "colab_type": "code",
        "outputId": "c8cea201-703d-427c-84df-8cb82309eff0",
        "colab": {
          "base_uri": "https://localhost:8080/",
          "height": 624
        }
      },
      "source": [
        "\"\"\" SE DEFINE LA RED \"\"\"\n",
        "tf.set_random_seed(seed)# Fijar semilla del keras/tensorflow\n",
        "\n",
        "###\n",
        "### AQUÍ DEBES ESCRIBIR EL CÓDIGO NECESARIO PARA CREAR LA RED SOLICITADA\n",
        "###\n",
        "\n",
        "n_input = 2      # Celdas en la capa de entrada (variables de entrada)\n",
        "n_hidden1 = 8   # Celdas en la capa oculta\n",
        "n_hidden2 = 6   # Celdas en la capa oculta\n",
        "n_output = 1     # Celdas en la capa de salida (un valor numérico)\n",
        "\n",
        "model = Sequential()\n",
        "model.add(Dense(n_hidden1, input_dim=n_input,activation='relu', name=\"hidden1_layer\"))\n",
        "model.add(Dense(n_hidden2, input_dim=n_hidden1,activation='relu', name=\"hidden2_layer\"))\n",
        "model.add(Dense(n_output,name=\"output_layer\"))\n",
        "\n",
        "\"\"\" SE DEFINE EL MODELO \"\"\"\n",
        "\n",
        "# Learning rate del modelo. Es el alpha que multiplicará a la derivada cuando\n",
        "# se va a hacer la modificación de los parámetros que se aprenden. En el vídeo\n",
        "# del \"Descenso del gradiente\" se explica su función\n",
        "learning_rate = 0.001 \n",
        "\n",
        "# Definir el optimizador a utilizar (SGD, descenso del gradiente estocástico)\n",
        "sgd = keras.optimizers.SGD(lr=learning_rate)\n",
        "\n",
        "# Compilar el modelo indicando la función de pérdida (loss) y el optimizador\n",
        "model.compile(loss='mean_squared_error', optimizer=sgd )\n",
        "\n",
        "\"\"\" SE VISUALIZA EL MODELO \"\"\"\n",
        "\n",
        "# Imprimir en modo texto finalmente el resumen/arquitectura de nuestro modelo\n",
        "# Esta información permite conocer el número de parámetros que se han de aprender\n",
        "print(model.summary())\n",
        "\n",
        "# Obtener un fichero con la representación gráfica del modelo\n",
        "plot_model(model, to_file='model.png')\n",
        "# Después de ejecutar esta línea se genera el fichero 'model.png'. Para poder \n",
        "# verlo, tienes que ir a la parte izquierda, acceder a la pestaña 'Archivos' y\n",
        "# 'actualizar', aparecerá entonces el archivo y podrás verlo (doble click sobre\n",
        "# el fichero 'model.png' o click con el botón derecho para descargarlo)"
      ],
      "execution_count": 0,
      "outputs": [
        {
          "output_type": "stream",
          "text": [
            "Model: \"sequential_4\"\n",
            "_________________________________________________________________\n",
            "Layer (type)                 Output Shape              Param #   \n",
            "=================================================================\n",
            "hidden1_layer (Dense)        (None, 8)                 24        \n",
            "_________________________________________________________________\n",
            "hidden2_layer (Dense)        (None, 6)                 54        \n",
            "_________________________________________________________________\n",
            "output_layer (Dense)         (None, 1)                 7         \n",
            "=================================================================\n",
            "Total params: 85\n",
            "Trainable params: 85\n",
            "Non-trainable params: 0\n",
            "_________________________________________________________________\n",
            "None\n"
          ],
          "name": "stdout"
        },
        {
          "output_type": "execute_result",
          "data": {
            "image/png": "[encoded data removed]",
            "text/plain": [
              "<IPython.core.display.Image object>"
            ]
          },
          "metadata": {
            "tags": []
          },
          "execution_count": 10
        }
      ]
    },
    {
      "cell_type": "markdown",
      "metadata": {
        "id": "O5kOtKcwDhOY",
        "colab_type": "text"
      },
      "source": [
        "Ejecuta el siguiente código para ver el rendimiento de la red que acabas de crear."
      ]
    },
    {
      "cell_type": "code",
      "metadata": {
        "id": "ErGGqo9olKX_",
        "colab_type": "code",
        "outputId": "2ed88042-9d37-4edf-dd11-c525dbaf9da9",
        "colab": {
          "base_uri": "https://localhost:8080/",
          "height": 313
        }
      },
      "source": [
        "#Entrenar el modelo a partir de los ejemplos de TRAIN creados en el punto 2\n",
        "history = model.fit(laX, laY, batch_size=batch, epochs=n_epochs, verbose=0 )\n",
        "\n",
        "plot_history(history)\n",
        "print(\"Máximo error:\",max(np.array(history.history['loss'])))\n",
        "print(\"Mínimo error:\",min(np.array(history.history['loss'])))"
      ],
      "execution_count": 0,
      "outputs": [
        {
          "output_type": "stream",
          "text": [
            "Máximo error: 3.7843837586402893\n",
            "Mínimo error: 0.4030311543464661\n"
          ],
          "name": "stdout"
        },
        {
          "output_type": "display_data",
          "data": {
            "image/png": "[encoded data removed]",
            "text/plain": [
              "<Figure size 432x288 with 1 Axes>"
            ]
          },
          "metadata": {
            "tags": []
          }
        }
      ]
    },
    {
      "cell_type": "markdown",
      "metadata": {
        "id": "vg-EH8A0Us6d",
        "colab_type": "text"
      },
      "source": [
        "Puedes probar otras configuraciones de red para intentar obtener mejores resultados."
      ]
    },
    {
      "cell_type": "code",
      "metadata": {
        "id": "HDqStpO2Ewzz",
        "colab_type": "code",
        "colab": {}
      },
      "source": [
        ""
      ],
      "execution_count": 0,
      "outputs": []
    }
  ]
}